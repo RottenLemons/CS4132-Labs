{
 "cells": [
  {
   "cell_type": "markdown",
   "metadata": {
    "pycharm": {
     "name": "#%% md\n"
    }
   },
   "source": [
    "<P> <img src=\"https://i.ibb.co/gyNf19D/nhslogo.png\" alt=\"nhslogo\" border=\"0\" width=\"100\" align=\"right\"><font size=\"6\"><b> CS4132 Data Analytics</b> </font>"
   ]
  },
  {
   "cell_type": "markdown",
   "metadata": {
    "pycharm": {
     "name": "#%% md\n"
    }
   },
   "source": [
    "# Lab 2.2: NumPy Array"
   ]
  },
  {
   "cell_type": "markdown",
   "metadata": {
    "pycharm": {
     "name": "#%% md\n"
    }
   },
   "source": [
    "## (Section 2.5) Manipulating an Array"
   ]
  },
  {
   "cell_type": "markdown",
   "metadata": {
    "pycharm": {
     "name": "#%% md\n"
    }
   },
   "source": [
    "Complete the following questions and upload your `.ipynb` file to Coursemology.\n",
    "\n",
    "Name the file in the following format:\n",
    "\n",
    "`Lab<Num><YourName>.ipynb`\n",
    "\n",
    "Note that for each question, you should shortlist at least 3 non-trivial test cases to show the correctness of your solution."
   ]
  },
  {
   "cell_type": "markdown",
   "metadata": {
    "pycharm": {
     "name": "#%% md\n"
    }
   },
   "source": [
    "### Q1"
   ]
  },
  {
   "cell_type": "markdown",
   "metadata": {
    "pycharm": {
     "name": "#%% md\n"
    }
   },
   "source": [
    "Create a function named `border()` which will\n",
    "\n",
    "<ul>\n",
    "<li><span lang=\"EN-GB\">take in an argument&nbsp;<em>n&nbsp;</em>denoting the size of a 2D array</span></li>\n",
    "<li><span lang=\"EN-GB\">create a 2D array of shape&nbsp;<em>n</em>&nbsp;by&nbsp;<em>n</em>&nbsp;with 1 on the border and 0 inside</span></li>\n",
    "<li><span lang=\"EN-GB\">finally return the array created.</span></li>\n",
    "</ul>\n",
    "<p>For example, if&nbsp;<em>n</em>&nbsp;is 5, the following array will be returned:</p>\n",
    "<pre>[[1. 1. 1. 1. 1.]\n",
    " [1. 0. 0. 0. 1.]\n",
    " [1. 0. 0. 0. 1.]\n",
    " [1. 0. 0. 0. 1.]\n",
    " [1. 1. 1. 1. 1.]]</pre>"
   ]
  },
  {
   "cell_type": "code",
   "execution_count": 1,
   "metadata": {
    "pycharm": {
     "name": "#%%\n"
    }
   },
   "outputs": [],
   "source": [
    "import numpy as np\n",
    "#your solution\n",
    "def border(n):\n",
    "    arr = np.full((n, n), 0.)\n",
    "    if n == 1:\n",
    "        arr[0, 0] = 1.\n",
    "        return arr\n",
    "    arr[0:n:n - 1] = 1.\n",
    "    arr[1:n - 1, 0:n:n - 1] = 1.\n",
    "    return arr"
   ]
  },
  {
   "cell_type": "markdown",
   "metadata": {
    "pycharm": {
     "name": "#%% md\n"
    }
   },
   "source": [
    "Show how you test the correctness of your code below:"
   ]
  },
  {
   "cell_type": "code",
   "execution_count": 2,
   "metadata": {
    "pycharm": {
     "name": "#%%\n"
    }
   },
   "outputs": [
    {
     "data": {
      "text/plain": [
       "array([[1., 1.],\n",
       "       [1., 1.]])"
      ]
     },
     "execution_count": 2,
     "metadata": {},
     "output_type": "execute_result"
    }
   ],
   "source": [
    "border(2)"
   ]
  },
  {
   "cell_type": "code",
   "execution_count": 3,
   "metadata": {
    "pycharm": {
     "name": "#%%\n"
    }
   },
   "outputs": [
    {
     "data": {
      "text/plain": [
       "array([[1.]])"
      ]
     },
     "execution_count": 3,
     "metadata": {},
     "output_type": "execute_result"
    }
   ],
   "source": [
    "border(1)"
   ]
  },
  {
   "cell_type": "code",
   "execution_count": 4,
   "metadata": {
    "pycharm": {
     "name": "#%%\n"
    },
    "scrolled": true
   },
   "outputs": [
    {
     "data": {
      "text/plain": [
       "array([[1., 1., 1., 1., 1.],\n",
       "       [1., 0., 0., 0., 1.],\n",
       "       [1., 0., 0., 0., 1.],\n",
       "       [1., 0., 0., 0., 1.],\n",
       "       [1., 1., 1., 1., 1.]])"
      ]
     },
     "execution_count": 4,
     "metadata": {},
     "output_type": "execute_result"
    }
   ],
   "source": [
    "border(5)"
   ]
  },
  {
   "cell_type": "markdown",
   "metadata": {
    "pycharm": {
     "name": "#%% md\n"
    }
   },
   "source": [
    "### Q2"
   ]
  },
  {
   "cell_type": "markdown",
   "metadata": {
    "pycharm": {
     "name": "#%% md\n"
    }
   },
   "source": [
    "Create a function named `checkerBoard()` which will\n",
    "<ul>\n",
    "<li><span lang=\"EN-GB\">take in an argument&nbsp;<em>n&nbsp;</em>denoting the size of a 2D array</span></li>\n",
    "<li><span lang=\"EN-GB\">create a 2D array of shape&nbsp;<em>n</em>&nbsp;by&nbsp;<em>n</em></span>&nbsp;with a checkerboard pattern.&nbsp;</li>\n",
    "<li><span lang=\"EN-GB\">finally return the array created.</span></li>\n",
    "</ul>\n",
    "<p>For example, if&nbsp;<em>n&nbsp;</em>is 8, the following array will be returned:</p>\n",
    "<pre>[[0, 1, 0, 1, 0, 1, 0, 1],<br /> [1, 0, 1, 0, 1, 0, 1, 0],<br /> [0, 1, 0, 1, 0, 1, 0, 1],<br /> [1, 0, 1, 0, 1, 0, 1, 0],<br /> [0, 1, 0, 1, 0, 1, 0, 1],<br /> [1, 0, 1, 0, 1, 0, 1, 0],<br /> [0, 1, 0, 1, 0, 1, 0, 1],<br /> [1, 0, 1, 0, 1, 0, 1, 0]]</pre>"
   ]
  },
  {
   "cell_type": "code",
   "execution_count": 5,
   "metadata": {
    "pycharm": {
     "name": "#%%\n"
    }
   },
   "outputs": [],
   "source": [
    "#your solution\n",
    "def checkerboard(n):\n",
    "    arr = np.full((n, n), 0)\n",
    "    arr[0:n:2, 1:n + 1:2] = 1\n",
    "    arr[1:n + 1:2, 0:n:2] = 1\n",
    "    return arr"
   ]
  },
  {
   "cell_type": "markdown",
   "metadata": {
    "pycharm": {
     "name": "#%% md\n"
    }
   },
   "source": [
    "Show how you test the correctness of your code below:"
   ]
  },
  {
   "cell_type": "code",
   "execution_count": 6,
   "metadata": {
    "pycharm": {
     "name": "#%%\n"
    }
   },
   "outputs": [
    {
     "data": {
      "text/plain": [
       "array([[0, 1, 0, 1, 0],\n",
       "       [1, 0, 1, 0, 1],\n",
       "       [0, 1, 0, 1, 0],\n",
       "       [1, 0, 1, 0, 1],\n",
       "       [0, 1, 0, 1, 0]])"
      ]
     },
     "execution_count": 6,
     "metadata": {},
     "output_type": "execute_result"
    }
   ],
   "source": [
    "checkerboard(5)"
   ]
  },
  {
   "cell_type": "code",
   "execution_count": 7,
   "metadata": {
    "pycharm": {
     "name": "#%%\n"
    }
   },
   "outputs": [
    {
     "data": {
      "text/plain": [
       "array([[0, 1, 0, 1, 0, 1, 0, 1],\n",
       "       [1, 0, 1, 0, 1, 0, 1, 0],\n",
       "       [0, 1, 0, 1, 0, 1, 0, 1],\n",
       "       [1, 0, 1, 0, 1, 0, 1, 0],\n",
       "       [0, 1, 0, 1, 0, 1, 0, 1],\n",
       "       [1, 0, 1, 0, 1, 0, 1, 0],\n",
       "       [0, 1, 0, 1, 0, 1, 0, 1],\n",
       "       [1, 0, 1, 0, 1, 0, 1, 0]])"
      ]
     },
     "execution_count": 7,
     "metadata": {},
     "output_type": "execute_result"
    }
   ],
   "source": [
    "checkerboard(8)"
   ]
  },
  {
   "cell_type": "code",
   "execution_count": 8,
   "metadata": {
    "pycharm": {
     "name": "#%%\n"
    }
   },
   "outputs": [
    {
     "data": {
      "text/plain": [
       "array([[0, 1],\n",
       "       [1, 0]])"
      ]
     },
     "execution_count": 8,
     "metadata": {},
     "output_type": "execute_result"
    }
   ],
   "source": [
    "checkerboard(2)"
   ]
  },
  {
   "cell_type": "markdown",
   "metadata": {
    "pycharm": {
     "name": "#%% md\n"
    }
   },
   "source": [
    "### Q3"
   ]
  },
  {
   "cell_type": "markdown",
   "metadata": {
    "pycharm": {
     "name": "#%% md\n"
    }
   },
   "source": [
    "Create a function named `swap()` which will\n",
    "<ul>\n",
    "<li><span lang=\"EN-GB\">take in 3 argument, <em>arr</em>,&nbsp;<em>a&nbsp;</em>and&nbsp;<em>b</em></span></li>\n",
    "<li>it will then swap the contents of <span lang=\"EN-GB\"><em>arr&nbsp;</em></span>in column <em>a</em> and column <em>b</em></li>\n",
    "<li><span lang=\"EN-GB\">finally return the updated array</span></li>\n",
    "</ul>\n",
    "<p>For example, given arr:</p>\n",
    "<pre>[[ 0, 1,  2,  3],<br /> [ 4, 5,  6,  7],<br /> [ 8, 9,  10, 11],<br /> [12, 13, 14, 15]]</pre>\n",
    "<p>Calling swap(arr,0,2) results in:</p>\n",
    "<pre>[[ 2, 1,  0,  3],<br /> [ 6, 5,  4,  7],<br /> [10, 9,  8,  11],<br /> [14, 13, 12, 15]]</pre>"
   ]
  },
  {
   "cell_type": "code",
   "execution_count": 9,
   "metadata": {
    "pycharm": {
     "name": "#%%\n"
    }
   },
   "outputs": [],
   "source": [
    "#your solution\n",
    "def swap(arr, a, b):\n",
    "    temp = arr[:, a].copy()\n",
    "    arr[:, a] = arr[:, b].copy()\n",
    "    arr[:, b] = temp\n",
    "    return arr"
   ]
  },
  {
   "cell_type": "markdown",
   "metadata": {
    "pycharm": {
     "name": "#%% md\n"
    }
   },
   "source": [
    "Show how you test the correctness of your code below:"
   ]
  },
  {
   "cell_type": "code",
   "execution_count": 10,
   "metadata": {
    "pycharm": {
     "name": "#%%\n"
    }
   },
   "outputs": [
    {
     "data": {
      "text/plain": [
       "array([[1., 1., 1., 1., 1.],\n",
       "       [0., 0., 1., 0., 1.],\n",
       "       [0., 0., 1., 0., 1.],\n",
       "       [0., 0., 1., 0., 1.],\n",
       "       [1., 1., 1., 1., 1.]])"
      ]
     },
     "execution_count": 10,
     "metadata": {},
     "output_type": "execute_result"
    }
   ],
   "source": [
    "swap(border(5), 0, 2)"
   ]
  },
  {
   "cell_type": "code",
   "execution_count": 11,
   "metadata": {
    "pycharm": {
     "name": "#%%\n"
    }
   },
   "outputs": [
    {
     "data": {
      "text/plain": [
       "array([[1., 1., 1., 1., 1., 1., 1., 1., 1., 1.],\n",
       "       [1., 0., 0., 0., 0., 0., 0., 0., 0., 1.],\n",
       "       [1., 0., 0., 0., 0., 0., 0., 0., 0., 1.],\n",
       "       [1., 0., 0., 0., 0., 0., 0., 0., 0., 1.],\n",
       "       [1., 0., 0., 0., 0., 0., 0., 0., 0., 1.],\n",
       "       [1., 0., 0., 0., 0., 0., 0., 0., 0., 1.],\n",
       "       [1., 0., 0., 0., 0., 0., 0., 0., 0., 1.],\n",
       "       [1., 0., 0., 0., 0., 0., 0., 0., 0., 1.],\n",
       "       [1., 0., 0., 0., 0., 0., 0., 0., 0., 1.],\n",
       "       [1., 1., 1., 1., 1., 1., 1., 1., 1., 1.]])"
      ]
     },
     "execution_count": 11,
     "metadata": {},
     "output_type": "execute_result"
    }
   ],
   "source": [
    "swap(border(10), 0, -1)"
   ]
  },
  {
   "cell_type": "code",
   "execution_count": 12,
   "metadata": {
    "pycharm": {
     "name": "#%%\n"
    }
   },
   "outputs": [
    {
     "data": {
      "text/plain": [
       "array([[1., 1., 1., 1., 1.],\n",
       "       [0., 0., 0., 1., 1.],\n",
       "       [0., 0., 0., 1., 1.],\n",
       "       [0., 0., 0., 1., 1.],\n",
       "       [1., 1., 1., 1., 1.]])"
      ]
     },
     "execution_count": 12,
     "metadata": {},
     "output_type": "execute_result"
    }
   ],
   "source": [
    "swap(border(5), 0, 3)"
   ]
  },
  {
   "cell_type": "markdown",
   "metadata": {
    "pycharm": {
     "name": "#%% md\n"
    }
   },
   "source": [
    "### Q4"
   ]
  },
  {
   "cell_type": "markdown",
   "metadata": {
    "pycharm": {
     "name": "#%% md\n"
    }
   },
   "source": [
    "Create a function named `slot()` which will\n",
    "<ul>\n",
    "<li><span lang=\"EN-GB\">take in 3 arguments, a 3d array&nbsp;<em>arr</em>, integers&nbsp;<em>a&nbsp;</em>and&nbsp;<em>b</em></span></li>\n",
    "<li>it will then copy the contents in sheet a and insert into position b</li>\n",
    "<li><span lang=\"EN-GB\">finally return the updated array</span></li>\n",
    "</ul>\n",
    "<p>For example, given arr:</p>\n",
    "<pre>[[[11, 12],\n",
    " [13, 14]],\n",
    "\n",
    " [[21, 22],\n",
    " [23, 23]]]</pre>\n",
    "<p>Calling slot(arr,1,0) results in:</p>\n",
    "<pre>[[[21, 22],\n",
    "  [23, 23]],\n",
    "\n",
    "  [[11, 12],\n",
    "  [13, 14]],\n",
    "  \n",
    "  [[21, 22],\n",
    "  [23, 23]]]</pre>"
   ]
  },
  {
   "cell_type": "code",
   "execution_count": 13,
   "metadata": {
    "pycharm": {
     "name": "#%%\n"
    }
   },
   "outputs": [],
   "source": [
    "#your solution\n",
    "def slot(arr, a, b):\n",
    "    return np.insert(arr, b,arr[a].copy(), axis=0)"
   ]
  },
  {
   "cell_type": "markdown",
   "metadata": {
    "pycharm": {
     "name": "#%% md\n"
    }
   },
   "source": [
    "Show how you test the correctness of your code below:"
   ]
  },
  {
   "cell_type": "code",
   "execution_count": 14,
   "metadata": {
    "pycharm": {
     "name": "#%%\n"
    }
   },
   "outputs": [
    {
     "data": {
      "text/plain": [
       "array([[[21, 22],\n",
       "        [23, 23]],\n",
       "\n",
       "       [[11, 12],\n",
       "        [13, 14]],\n",
       "\n",
       "       [[21, 22],\n",
       "        [23, 23]]])"
      ]
     },
     "execution_count": 14,
     "metadata": {},
     "output_type": "execute_result"
    }
   ],
   "source": [
    "npa = np.array([[[11, 12],[13, 14]],[[21, 22],[23, 23]]])\n",
    "slot(npa, 1, 0)"
   ]
  },
  {
   "cell_type": "code",
   "execution_count": 15,
   "metadata": {
    "pycharm": {
     "name": "#%%\n"
    }
   },
   "outputs": [
    {
     "data": {
      "text/plain": [
       "array([[[11, 12],\n",
       "        [13, 14]],\n",
       "\n",
       "       [[11, 12],\n",
       "        [13, 14]],\n",
       "\n",
       "       [[21, 22],\n",
       "        [23, 23]]])"
      ]
     },
     "execution_count": 15,
     "metadata": {},
     "output_type": "execute_result"
    }
   ],
   "source": [
    "npa2 = np.array([[[11, 12],[13, 14]],[[21, 22],[23, 23]]])\n",
    "slot(npa2, 0, 0)"
   ]
  },
  {
   "cell_type": "code",
   "execution_count": 16,
   "metadata": {
    "pycharm": {
     "name": "#%%\n"
    }
   },
   "outputs": [
    {
     "data": {
      "text/plain": [
       "array([[[11, 12],\n",
       "        [13, 14]],\n",
       "\n",
       "       [[21, 22],\n",
       "        [23, 23]],\n",
       "\n",
       "       [[21, 22],\n",
       "        [23, 23]]])"
      ]
     },
     "execution_count": 16,
     "metadata": {},
     "output_type": "execute_result"
    }
   ],
   "source": [
    "npa2 = np.array([[[11, 12],[13, 14]],[[21, 22],[23, 23]]])\n",
    "slot(npa2, 1, 1)"
   ]
  },
  {
   "cell_type": "markdown",
   "metadata": {
    "pycharm": {
     "name": "#%% md\n"
    }
   },
   "source": [
    "### Q5"
   ]
  },
  {
   "cell_type": "markdown",
   "metadata": {
    "pycharm": {
     "name": "#%% md\n"
    }
   },
   "source": [
    "Create a function named `create3d()` which will\n",
    "<ul>\n",
    "<li><span lang=\"EN-GB\">take in a integers <i>n</i></span></li>\n",
    "<li>it will then create a 3d array of <em>n</em> by <em>n</em> by <em>n</em> with random integer values of range [1,99]</li>\n",
    "<li><span lang=\"EN-GB\">finally return the updated array</span></li>\n",
    "</ul>\n",
    "<p>For example, calling create3d(2) may result in:</p>\n",
    "<pre>[[[ 5, 82],\n",
    "  [15, 30]],\n",
    "\n",
    "  [[ 1, 36],\n",
    "   [65, 74]]]</pre>\n",
    "<p>Calling create3d(3) may result in:</p>\n",
    "<pre>[[[97, 21, 49],\n",
    "  [70, 11, 63],\n",
    "  [41, 57, 93]],\n",
    "\n",
    " [[75, 66, 27],\n",
    "  [12, 28, 17],\n",
    "  [65, 67, 82]],\n",
    "\n",
    " [[67, 97, 60],\n",
    "  [72, 36, 24],\n",
    "  [26, 82, 26]]]</pre>"
   ]
  },
  {
   "cell_type": "code",
   "execution_count": 17,
   "metadata": {
    "pycharm": {
     "name": "#%%\n"
    }
   },
   "outputs": [],
   "source": [
    "#your solution\n",
    "def create3d(n):\n",
    "    arr = np.random.randint(low=1, high=100, size=(n, n, n))\n",
    "    return arr"
   ]
  },
  {
   "cell_type": "markdown",
   "metadata": {
    "pycharm": {
     "name": "#%% md\n"
    }
   },
   "source": [
    "Show how you test the correctness of your code below:"
   ]
  },
  {
   "cell_type": "code",
   "execution_count": 18,
   "metadata": {
    "pycharm": {
     "name": "#%%\n"
    }
   },
   "outputs": [
    {
     "data": {
      "text/plain": [
       "array([[[13, 76, 77,  1],\n",
       "        [37, 45, 37, 55],\n",
       "        [18, 29, 37, 79],\n",
       "        [93,  1, 37, 27]],\n",
       "\n",
       "       [[34, 42, 67, 34],\n",
       "        [96, 82, 50, 88],\n",
       "        [84, 92, 41, 17],\n",
       "        [43, 89,  4, 36]],\n",
       "\n",
       "       [[63, 52, 36, 88],\n",
       "        [55, 13, 91, 16],\n",
       "        [30, 34, 54, 89],\n",
       "        [18, 21, 46, 51]],\n",
       "\n",
       "       [[91, 93, 33,  7],\n",
       "        [32, 96, 60,  9],\n",
       "        [47, 21,  7, 65],\n",
       "        [ 5, 41, 37,  6]]])"
      ]
     },
     "execution_count": 18,
     "metadata": {},
     "output_type": "execute_result"
    }
   ],
   "source": [
    "create3d(4)"
   ]
  },
  {
   "cell_type": "code",
   "execution_count": 19,
   "metadata": {
    "pycharm": {
     "name": "#%%\n"
    }
   },
   "outputs": [
    {
     "data": {
      "text/plain": [
       "array([[[89, 13, 19],\n",
       "        [46, 37, 64],\n",
       "        [ 5, 60,  4]],\n",
       "\n",
       "       [[60, 37, 98],\n",
       "        [40, 15, 28],\n",
       "        [69, 61, 95]],\n",
       "\n",
       "       [[69, 73, 41],\n",
       "        [ 7, 59, 79],\n",
       "        [64, 42, 38]]])"
      ]
     },
     "execution_count": 19,
     "metadata": {},
     "output_type": "execute_result"
    }
   ],
   "source": [
    "create3d(3)"
   ]
  },
  {
   "cell_type": "code",
   "execution_count": 20,
   "metadata": {
    "pycharm": {
     "name": "#%%\n"
    }
   },
   "outputs": [
    {
     "data": {
      "text/plain": [
       "array([[[16, 34],\n",
       "        [23, 91]],\n",
       "\n",
       "       [[62, 97],\n",
       "        [71, 81]]])"
      ]
     },
     "execution_count": 20,
     "metadata": {},
     "output_type": "execute_result"
    }
   ],
   "source": [
    "create3d(2)"
   ]
  },
  {
   "cell_type": "markdown",
   "metadata": {
    "pycharm": {
     "name": "#%% md\n"
    }
   },
   "source": [
    "### Q6"
   ]
  },
  {
   "cell_type": "markdown",
   "metadata": {
    "pycharm": {
     "name": "#%% md\n"
    }
   },
   "source": [
    "Create a function named `verticalStack()` which will\n",
    "<ul>\n",
    "<li>take in a 3d array from create3d() from question 5</li>\n",
    "<li>it will then stack the sheets in the array from create3d() in reverse order, resulting in a 2d array.</li>\n",
    "<li><span lang=\"EN-GB\">finally return the 2d array</span></li>\n",
    "</ul>\n",
    "<p>For example, create3d(3) may result in:</p>\n",
    "<pre>      [[[29, 32, 35],\n",
    "        [89, 59, 77],\n",
    "        [37, 87, 80]],\n",
    "\n",
    "       [[75, 95, 39],\n",
    "        [14, 79, 83],\n",
    "        [67, 25, 31]],\n",
    "\n",
    "       [[81, 61, 10],\n",
    "        [35, 60,  3],\n",
    "        [93, 17, 91]]]</pre>\n",
    "<p>Calling verticalStack(create3d(3)) will result in:</p>\n",
    "<pre>      [[81, 61, 10],\n",
    "       [35, 60,  3],\n",
    "       [93, 17, 91],\n",
    "       [75, 95, 39],\n",
    "       [14, 79, 83],\n",
    "       [67, 25, 31],\n",
    "       [29, 32, 35],\n",
    "       [89, 59, 77],\n",
    "       [37, 87, 80]]</pre>"
   ]
  },
  {
   "cell_type": "code",
   "execution_count": 21,
   "metadata": {
    "pycharm": {
     "name": "#%%\n"
    }
   },
   "outputs": [],
   "source": [
    "#your solution\n",
    "def verticalStack(arr):\n",
    "    n = arr.shape[0]\n",
    "    arr2 = arr[::-1].reshape((n * n, n))\n",
    "    return arr2"
   ]
  },
  {
   "cell_type": "markdown",
   "metadata": {
    "pycharm": {
     "name": "#%% md\n"
    }
   },
   "source": [
    "Show how you test the correctness of your code below:"
   ]
  },
  {
   "cell_type": "code",
   "execution_count": 22,
   "metadata": {
    "pycharm": {
     "name": "#%%\n"
    }
   },
   "outputs": [
    {
     "name": "stdout",
     "output_type": "stream",
     "text": [
      "[[[32 85 92]\n",
      "  [62 68 35]\n",
      "  [58 54 69]]\n",
      "\n",
      " [[87 45 55]\n",
      "  [38 52 16]\n",
      "  [72 36 60]]\n",
      "\n",
      " [[51 85 37]\n",
      "  [ 4  6 89]\n",
      "  [52 35 28]]]\n",
      "[[51 85 37]\n",
      " [ 4  6 89]\n",
      " [52 35 28]\n",
      " [87 45 55]\n",
      " [38 52 16]\n",
      " [72 36 60]\n",
      " [32 85 92]\n",
      " [62 68 35]\n",
      " [58 54 69]]\n"
     ]
    }
   ],
   "source": [
    "a = create3d(3)\n",
    "print(a)\n",
    "print(verticalStack(a))"
   ]
  },
  {
   "cell_type": "code",
   "execution_count": 23,
   "metadata": {
    "pycharm": {
     "name": "#%%\n"
    }
   },
   "outputs": [
    {
     "name": "stdout",
     "output_type": "stream",
     "text": [
      "[[[15 69]\n",
      "  [33 11]]\n",
      "\n",
      " [[84 82]\n",
      "  [78 74]]]\n",
      "[[84 82]\n",
      " [78 74]\n",
      " [15 69]\n",
      " [33 11]]\n"
     ]
    }
   ],
   "source": [
    "b = create3d(2)\n",
    "print(b)\n",
    "print(verticalStack(b))"
   ]
  },
  {
   "cell_type": "code",
   "execution_count": 24,
   "metadata": {
    "pycharm": {
     "name": "#%%\n"
    }
   },
   "outputs": [
    {
     "name": "stdout",
     "output_type": "stream",
     "text": [
      "[[[26 76 37 26]\n",
      "  [92 64 12 36]\n",
      "  [97 73 16 82]\n",
      "  [ 5  1 29 17]]\n",
      "\n",
      " [[71 93 86 49]\n",
      "  [48 91 97  3]\n",
      "  [22 52 96 49]\n",
      "  [87 21 10 34]]\n",
      "\n",
      " [[84 39 23 90]\n",
      "  [83  4 53 15]\n",
      "  [13 61 33 68]\n",
      "  [72 55 72 58]]\n",
      "\n",
      " [[31 27 55 11]\n",
      "  [68 40 57 99]\n",
      "  [18 55 32 71]\n",
      "  [ 6 45 23 46]]]\n",
      "[[31 27 55 11]\n",
      " [68 40 57 99]\n",
      " [18 55 32 71]\n",
      " [ 6 45 23 46]\n",
      " [84 39 23 90]\n",
      " [83  4 53 15]\n",
      " [13 61 33 68]\n",
      " [72 55 72 58]\n",
      " [71 93 86 49]\n",
      " [48 91 97  3]\n",
      " [22 52 96 49]\n",
      " [87 21 10 34]\n",
      " [26 76 37 26]\n",
      " [92 64 12 36]\n",
      " [97 73 16 82]\n",
      " [ 5  1 29 17]]\n"
     ]
    }
   ],
   "source": [
    "c = create3d(4)\n",
    "print(c)\n",
    "print(verticalStack(c))"
   ]
  },
  {
   "cell_type": "markdown",
   "metadata": {
    "pycharm": {
     "name": "#%% md\n"
    }
   },
   "source": [
    "### Q7"
   ]
  },
  {
   "cell_type": "markdown",
   "metadata": {
    "pycharm": {
     "name": "#%% md\n"
    }
   },
   "source": [
    "Create a function name `findGreater()` which will take in an input array and integer n, and return elements which are greater than n as a 1D array."
   ]
  },
  {
   "cell_type": "code",
   "execution_count": 25,
   "metadata": {
    "pycharm": {
     "name": "#%%\n"
    }
   },
   "outputs": [],
   "source": [
    "#your solution\n",
    "def findGreater(arr, n):\n",
    "    lists = arr.flatten().tolist()\n",
    "    arr2 = np.array([i for i in lists if i > n])\n",
    "    return arr2\n"
   ]
  },
  {
   "cell_type": "markdown",
   "metadata": {
    "pycharm": {
     "name": "#%% md\n"
    }
   },
   "source": [
    "Show how you test the correctness of your code below:"
   ]
  },
  {
   "cell_type": "code",
   "execution_count": 26,
   "metadata": {
    "pycharm": {
     "name": "#%%\n"
    }
   },
   "outputs": [
    {
     "name": "stdout",
     "output_type": "stream",
     "text": [
      "[[[ 1 60]\n",
      "  [52 42]]\n",
      "\n",
      " [[84 45]\n",
      "  [93 30]]]\n",
      "[60 52 42 84 45 93]\n"
     ]
    }
   ],
   "source": [
    "a = create3d(2)\n",
    "print(a)\n",
    "print(findGreater(a, 40))"
   ]
  },
  {
   "cell_type": "code",
   "execution_count": 27,
   "metadata": {
    "pycharm": {
     "name": "#%%\n"
    }
   },
   "outputs": [
    {
     "name": "stdout",
     "output_type": "stream",
     "text": [
      "[[[55 80 72]\n",
      "  [27 82 67]\n",
      "  [89 72 60]]\n",
      "\n",
      " [[30 67 80]\n",
      "  [51 28 71]\n",
      "  [23 67 12]]\n",
      "\n",
      " [[55 24 84]\n",
      "  [21  3 41]\n",
      "  [39 67 59]]]\n",
      "[80 72 82 67 89 72 67 80 71 67 84 67]\n"
     ]
    }
   ],
   "source": [
    "b = create3d(3)\n",
    "print(b)\n",
    "print(findGreater(b, 60))"
   ]
  },
  {
   "cell_type": "code",
   "execution_count": 28,
   "metadata": {
    "pycharm": {
     "name": "#%%\n"
    }
   },
   "outputs": [
    {
     "name": "stdout",
     "output_type": "stream",
     "text": [
      "[[[31 73 12 50]\n",
      "  [96  6 73 53]\n",
      "  [ 4 29 50 15]\n",
      "  [82 29 89 30]]\n",
      "\n",
      " [[89 75 25 74]\n",
      "  [13 99 10 66]\n",
      "  [ 4 94 56 20]\n",
      "  [37 39 47  4]]\n",
      "\n",
      " [[27 69 15  6]\n",
      "  [70 25 27 77]\n",
      "  [47 88  5 47]\n",
      "  [46 29  6 66]]\n",
      "\n",
      " [[84 12 55 25]\n",
      "  [41 84  3 81]\n",
      "  [26 90  8 90]\n",
      "  [38 78 18 50]]]\n",
      "[31 73 50 96 73 53 29 50 82 29 89 30 89 75 25 74 99 66 94 56 37 39 47 27\n",
      " 69 70 25 27 77 47 88 47 46 29 66 84 55 25 41 84 81 26 90 90 38 78 50]\n"
     ]
    }
   ],
   "source": [
    "c = create3d(4)\n",
    "print(c)\n",
    "print(findGreater(c, 20))"
   ]
  }
 ],
 "metadata": {
  "kernelspec": {
   "display_name": "Python 3 (ipykernel)",
   "language": "python",
   "name": "python3"
  },
  "language_info": {
   "codemirror_mode": {
    "name": "ipython",
    "version": 3
   },
   "file_extension": ".py",
   "mimetype": "text/x-python",
   "name": "python",
   "nbconvert_exporter": "python",
   "pygments_lexer": "ipython3",
   "version": "3.9.12"
  }
 },
 "nbformat": 4,
 "nbformat_minor": 2
}
